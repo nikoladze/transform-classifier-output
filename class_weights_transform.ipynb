{
 "cells": [
  {
   "cell_type": "markdown",
   "metadata": {},
   "source": [
    "# Transform output probabilities to different class base rates\n",
    "This notebook illustrates how to transform classifier output probabilities (assuming they are well calibrated) to reflect different class base rates as used in the training.\n",
    "\n",
    "For a binary classification problem, the output probability can be interpreted as a posterior probability of a true event, given the observables/inputs $x$:\n",
    "\n",
    "\\begin{equation}\n",
    "p_1 = P(1\\mid x) = \\frac{P(x\\mid 1)P(1)}{P(x\\mid 1)P(1)+P(x\\mid 0)P(0)} = \\frac{L_1 f_1}{L_1 f_1 + L_0 f_0} = \\frac{f_1}{f_1 + \\frac{L_0}{L_1} f_0}\n",
    "\\label{eq:p1} \\tag{1}\n",
    "\\end{equation}\n",
    "\n",
    "with the Likelihood of $x$ given true or false events ($L_1$ and $L_0$) and the prior rates $f_1$ and $f_0$ of true and false events. Since the Likelihood is independent of the prior rates, we can solve equation $\\eqref{eq:p1}$ by $\\frac{L_0}{L_1}$ and get for our transformed probability $p_1^\\prime$ with new prior rates $f_0^\\prime$ and $f_1^\\prime$\n",
    "\n",
    "\\begin{equation}\n",
    "p_1^\\prime = \\frac{f_1^\\prime}{f_1^\\prime + (\\frac{1}{p_1}-1)f_0^\\prime\\frac{f_1}{f_0}} = \\frac{1}{1+(\\frac{1}{p_1}-1)\\frac{r}{r^\\prime}} \\qquad \\text{with} \\quad r:=\\frac{f_0}{f_1}\n",
    "\\end{equation}"
   ]
  },
  {
   "cell_type": "code",
   "execution_count": 1,
   "metadata": {},
   "outputs": [],
   "source": [
    "def transform(p, r_new, r_old=1):\n",
    "    return 1. / (1. + (1. / p - 1) * r_new / r_old)"
   ]
  },
  {
   "cell_type": "code",
   "execution_count": 2,
   "metadata": {},
   "outputs": [],
   "source": [
    "from tensorflow import keras\n",
    "import numpy as np\n",
    "import matplotlib.pyplot as plt"
   ]
  },
  {
   "cell_type": "code",
   "execution_count": 3,
   "metadata": {},
   "outputs": [],
   "source": [
    "x = np.concatenate(\n",
    "    [\n",
    "        np.random.normal(loc=-1, size=10000),\n",
    "        np.random.normal(loc=1, size=10000),\n",
    "    ]\n",
    ")\n",
    "y = np.concatenate([np.zeros(10000), np.ones(10000)])\n",
    "shuf = np.random.permutation(len(x))\n",
    "x = x[shuf]\n",
    "y = y[shuf]"
   ]
  },
  {
   "cell_type": "code",
   "execution_count": 4,
   "metadata": {},
   "outputs": [],
   "source": [
    "def plot_scores(x, y, opts=dict(bins=100, range=(0, 1), alpha=0.5), fig=None, ax=None):\n",
    "    if ax is None:\n",
    "        fig, ax = plt.subplots()\n",
    "    ax.hist(x[y==0], **opts)\n",
    "    ax.hist(x[y==1], **opts)\n",
    "    return fig, ax"
   ]
  },
  {
   "cell_type": "code",
   "execution_count": 5,
   "metadata": {},
   "outputs": [
    {
     "data": {
      "text/plain": [
       "(<Figure size 432x288 with 1 Axes>,\n",
       " <matplotlib.axes._subplots.AxesSubplot at 0x7f86c9e599b0>)"
      ]
     },
     "execution_count": 5,
     "metadata": {},
     "output_type": "execute_result"
    },
    {
     "data": {
      "image/png": "[encoded data removed]",
      "text/plain": [
       "<Figure size 432x288 with 1 Axes>"
      ]
     },
     "metadata": {
      "needs_background": "light"
     },
     "output_type": "display_data"
    }
   ],
   "source": [
    "plot_scores(x, y, opts=dict(alpha=0.5))"
   ]
  },
  {
   "cell_type": "code",
   "execution_count": 6,
   "metadata": {},
   "outputs": [
    {
     "name": "stderr",
     "output_type": "stream",
     "text": [
      "WARNING: Logging before flag parsing goes to stderr.\n",
      "W0402 10:13:18.536813 140218082109248 deprecation.py:506] From /home/nikolai/.conda/envs/ml-p3/lib/python3.6/site-packages/tensorflow/python/ops/init_ops.py:1251: calling VarianceScaling.__init__ (from tensorflow.python.ops.init_ops) with dtype is deprecated and will be removed in a future version.\n",
      "Instructions for updating:\n",
      "Call initializer instance with the dtype argument instead of passing it to the constructor\n",
      "W0402 10:13:18.581198 140218082109248 deprecation.py:323] From /home/nikolai/.conda/envs/ml-p3/lib/python3.6/site-packages/tensorflow/python/ops/nn_impl.py:180: add_dispatch_support.<locals>.wrapper (from tensorflow.python.ops.array_ops) is deprecated and will be removed in a future version.\n",
      "Instructions for updating:\n",
      "Use tf.where in 2.0, which has the same broadcast rule as np.where\n"
     ]
    }
   ],
   "source": [
    "model = keras.models.Sequential([keras.layers.Dense(1, activation=\"sigmoid\", input_shape=(1,))])\n",
    "model.compile(optimizer=keras.optimizers.Adam(lr=0.1), loss=\"binary_crossentropy\")"
   ]
  },
  {
   "cell_type": "code",
   "execution_count": 7,
   "metadata": {},
   "outputs": [
    {
     "name": "stdout",
     "output_type": "stream",
     "text": [
      "Epoch 1/5\n",
      "20000/20000 [==============================] - 1s 64us/sample - loss: 0.3605\n",
      "Epoch 2/5\n",
      "20000/20000 [==============================] - 1s 49us/sample - loss: 0.3612\n",
      "Epoch 3/5\n",
      "20000/20000 [==============================] - 1s 48us/sample - loss: 0.3616\n",
      "Epoch 4/5\n",
      "20000/20000 [==============================] - 1s 48us/sample - loss: 0.3608\n",
      "Epoch 5/5\n",
      "20000/20000 [==============================] - 1s 49us/sample - loss: 0.3609\n"
     ]
    },
    {
     "data": {
      "text/plain": [
       "<tensorflow.python.keras.callbacks.History at 0x7f86c9a86be0>"
      ]
     },
     "execution_count": 7,
     "metadata": {},
     "output_type": "execute_result"
    }
   ],
   "source": [
    "# fit assuming 50:50 (r = 1) \n",
    "model.fit(x, y, epochs=5)"
   ]
  },
  {
   "cell_type": "code",
   "execution_count": 8,
   "metadata": {},
   "outputs": [],
   "source": [
    "scores = model.predict(x)"
   ]
  },
  {
   "cell_type": "code",
   "execution_count": 9,
   "metadata": {},
   "outputs": [
    {
     "data": {
      "text/plain": [
       "(<Figure size 432x288 with 1 Axes>,\n",
       " <matplotlib.axes._subplots.AxesSubplot at 0x7f86c8fd01d0>)"
      ]
     },
     "execution_count": 9,
     "metadata": {},
     "output_type": "execute_result"
    },
    {
     "data": {
      "image/png": "[encoded data removed]",
      "text/plain": [
       "<Figure size 432x288 with 1 Axes>"
      ]
     },
     "metadata": {
      "needs_background": "light"
     },
     "output_type": "display_data"
    }
   ],
   "source": [
    "plot_scores(scores, y)"
   ]
  },
  {
   "cell_type": "code",
   "execution_count": 10,
   "metadata": {},
   "outputs": [],
   "source": [
    "# transform to r = 1000\n",
    "scores_transf = transform(scores, r_new=1000, r_old=1)"
   ]
  },
  {
   "cell_type": "code",
   "execution_count": 11,
   "metadata": {},
   "outputs": [
    {
     "data": {
      "image/png": "[encoded data removed]",
      "text/plain": [
       "<Figure size 432x288 with 1 Axes>"
      ]
     },
     "metadata": {
      "needs_background": "light"
     },
     "output_type": "display_data"
    }
   ],
   "source": [
    "fig, ax = plot_scores(scores_transf, y)\n",
    "ax.set_yscale(\"log\")"
   ]
  },
  {
   "cell_type": "code",
   "execution_count": 12,
   "metadata": {},
   "outputs": [],
   "source": [
    "model2 = keras.models.Sequential([keras.layers.Dense(1, activation=\"sigmoid\", input_shape=(1,))])\n",
    "model2.compile(optimizer=keras.optimizers.Adam(lr=0.1), loss=\"binary_crossentropy\")"
   ]
  },
  {
   "cell_type": "code",
   "execution_count": 13,
   "metadata": {},
   "outputs": [
    {
     "name": "stdout",
     "output_type": "stream",
     "text": [
      "Epoch 1/5\n",
      "20000/20000 [==============================] - 1s 75us/sample - loss: 0.0197\n",
      "Epoch 2/5\n",
      "20000/20000 [==============================] - 1s 61us/sample - loss: 0.0061\n",
      "Epoch 3/5\n",
      "20000/20000 [==============================] - 1s 53us/sample - loss: 0.0060\n",
      "Epoch 4/5\n",
      "20000/20000 [==============================] - 1s 52us/sample - loss: 0.0060\n",
      "Epoch 5/5\n",
      "20000/20000 [==============================] - 1s 52us/sample - loss: 0.0060\n"
     ]
    },
    {
     "data": {
      "text/plain": [
       "<tensorflow.python.keras.callbacks.History at 0x7f86c817be80>"
      ]
     },
     "execution_count": 13,
     "metadata": {},
     "output_type": "execute_result"
    }
   ],
   "source": [
    "# now train a model assuming r = 1000 (with class weights)\n",
    "weights = np.ones(len(x))\n",
    "weights[y==0] = 1000\n",
    "weights /= weights.mean()\n",
    "model2.fit(x, y, sample_weight=weights, epochs=5)"
   ]
  },
  {
   "cell_type": "code",
   "execution_count": 14,
   "metadata": {},
   "outputs": [],
   "source": [
    "scores_classw = model2.predict(x)"
   ]
  },
  {
   "cell_type": "code",
   "execution_count": 15,
   "metadata": {},
   "outputs": [
    {
     "data": {
      "image/png": "[encoded data removed]",
      "text/plain": [
       "<Figure size 432x288 with 1 Axes>"
      ]
     },
     "metadata": {
      "needs_background": "light"
     },
     "output_type": "display_data"
    }
   ],
   "source": [
    "fig, ax = plot_scores(scores_classw, y)\n",
    "ax.set_yscale(\"log\")"
   ]
  },
  {
   "cell_type": "code",
   "execution_count": 16,
   "metadata": {},
   "outputs": [
    {
     "name": "stderr",
     "output_type": "stream",
     "text": [
      "/home/nikolai/.conda/envs/ml-p3/lib/python3.6/site-packages/ipykernel_launcher.py:2: RuntimeWarning: divide by zero encountered in true_divide\n",
      "  \n"
     ]
    }
   ],
   "source": [
    "# transform back to r = 1\n",
    "scores_classw_invtransf = transform(scores_classw, r_new=1, r_old=1000)"
   ]
  },
  {
   "cell_type": "code",
   "execution_count": 17,
   "metadata": {},
   "outputs": [
    {
     "data": {
      "image/png": "[encoded data removed]",
      "text/plain": [
       "<Figure size 432x288 with 1 Axes>"
      ]
     },
     "metadata": {
      "needs_background": "light"
     },
     "output_type": "display_data"
    }
   ],
   "source": [
    "fig, ax = plot_scores(scores_classw_invtransf, y)"
   ]
  }
 ],
 "metadata": {
  "kernelspec": {
   "display_name": "Python 3",
   "language": "python",
   "name": "python3"
  },
  "language_info": {
   "codemirror_mode": {
    "name": "ipython",
    "version": 3
   },
   "file_extension": ".py",
   "mimetype": "text/x-python",
   "name": "python",
   "nbconvert_exporter": "python",
   "pygments_lexer": "ipython3",
   "version": "3.6.9"
  }
 },
 "nbformat": 4,
 "nbformat_minor": 2
}
